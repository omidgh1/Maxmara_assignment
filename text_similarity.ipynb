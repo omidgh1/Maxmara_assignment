{
 "cells": [
  {
   "cell_type": "code",
   "execution_count": 1,
   "id": "9b0d1346-fb48-42f8-959c-970bef6dfa9e",
   "metadata": {},
   "outputs": [
    {
     "name": "stderr",
     "output_type": "stream",
     "text": [
      "C:\\Users\\omidg\\.conda\\envs\\Lectra\\Lib\\site-packages\\tqdm\\auto.py:21: TqdmWarning: IProgress not found. Please update jupyter and ipywidgets. See https://ipywidgets.readthedocs.io/en/stable/user_install.html\n",
      "  from .autonotebook import tqdm as notebook_tqdm\n"
     ]
    }
   ],
   "source": [
    "import warnings\n",
    "warnings.simplefilter(action='ignore', category=FutureWarning)\n",
    "from keybert import KeyBERT\n",
    "import pandas as pd\n",
    "pd.set_option('display.max_columns', None)\n",
    "import numpy as np\n",
    "from tqdm import tqdm\n",
    "import time\n",
    "from concurrent.futures import ThreadPoolExecutor\n",
    "from collections import Counter\n",
    "from rapidfuzz import fuzz , process\n",
    "from sklearn.feature_extraction.text import TfidfVectorizer\n",
    "from sklearn.metrics.pairwise import cosine_similarity\n",
    "import requests\n",
    "from PIL import Image\n",
    "from io import BytesIO\n",
    "from torchvision import models, transforms\n",
    "import torch\n",
    "import ast"
   ]
  },
  {
   "cell_type": "code",
   "execution_count": 2,
   "id": "22fd4066-c74c-47e3-ac01-752887351666",
   "metadata": {},
   "outputs": [],
   "source": [
    "maxmara = pd.read_csv('maxmara_cleaned.csv')\n",
    "netaporter = pd.read_csv('netaporter_cleaned.csv')\n",
    "luisaviaroma = pd.read_csv('luisaviaroma_cleaned.csv')"
   ]
  },
  {
   "cell_type": "code",
   "execution_count": 3,
   "id": "2cfd4edf-e3ab-4942-b8b2-efd6a9cf018e",
   "metadata": {},
   "outputs": [
    {
     "data": {
      "text/html": [
       "<div>\n",
       "<style scoped>\n",
       "    .dataframe tbody tr th:only-of-type {\n",
       "        vertical-align: middle;\n",
       "    }\n",
       "\n",
       "    .dataframe tbody tr th {\n",
       "        vertical-align: top;\n",
       "    }\n",
       "\n",
       "    .dataframe thead th {\n",
       "        text-align: right;\n",
       "    }\n",
       "</style>\n",
       "<table border=\"1\" class=\"dataframe\">\n",
       "  <thead>\n",
       "    <tr style=\"text-align: right;\">\n",
       "      <th></th>\n",
       "      <th>url</th>\n",
       "      <th>product_id</th>\n",
       "      <th>ref</th>\n",
       "      <th>main_title</th>\n",
       "      <th>description</th>\n",
       "      <th>full_path</th>\n",
       "      <th>color</th>\n",
       "      <th>current_price</th>\n",
       "      <th>previous_price</th>\n",
       "      <th>available_sizes</th>\n",
       "      <th>all_sizes</th>\n",
       "      <th>images</th>\n",
       "      <th>outlet_color</th>\n",
       "      <th>excluweb_color</th>\n",
       "      <th>material</th>\n",
       "      <th>brand</th>\n",
       "      <th>discounted</th>\n",
       "    </tr>\n",
       "  </thead>\n",
       "  <tbody>\n",
       "    <tr>\n",
       "      <th>0</th>\n",
       "      <td>['https://us.maxmara.com/p-1081065106001-ogger...</td>\n",
       "      <td>1081065106001</td>\n",
       "      <td>1081065106</td>\n",
       "      <td>cropped teddy bear icon coat in alpaca and wool</td>\n",
       "      <td>cropped jacket in the iconic teddy fabric of a...</td>\n",
       "      <td>[['Homepage', 'Coats and Jackets', 'Coats and ...</td>\n",
       "      <td>white</td>\n",
       "      <td>2890.0</td>\n",
       "      <td>2890.0</td>\n",
       "      <td>['4', '6', '12', '0', '8', '2', '10']</td>\n",
       "      <td>['4', '6', '12', '0', '16', '8', '10', '2', '14']</td>\n",
       "      <td>['https://b2c-media.maxmara.com/sys-master/m0/...</td>\n",
       "      <td>False</td>\n",
       "      <td>False</td>\n",
       "      <td>Jersey fabric 62% alpaca, 26% virgin wool, 12%...</td>\n",
       "      <td>max mara</td>\n",
       "      <td>False</td>\n",
       "    </tr>\n",
       "    <tr>\n",
       "      <th>1</th>\n",
       "      <td>['https://us.maxmara.com/p-1336024206001-zigot...</td>\n",
       "      <td>1336024206001</td>\n",
       "      <td>1336024206</td>\n",
       "      <td>wide-leg wool yarn trousers</td>\n",
       "      <td>long trousers made from soft pure wool yarn - ...</td>\n",
       "      <td>[['Homepage', 'Clothing', 'Clothing', 'Trouser...</td>\n",
       "      <td>white</td>\n",
       "      <td>612.0</td>\n",
       "      <td>875.0</td>\n",
       "      <td>['XS', 'S', 'XL', 'M']</td>\n",
       "      <td>['XS', 'S', 'L', 'M', '2XL', 'XL']</td>\n",
       "      <td>['https://b2c-media.maxmara.com/sys-master/m0/...</td>\n",
       "      <td>False</td>\n",
       "      <td>False</td>\n",
       "      <td>Knitted fabric 100% virgin wool; - exclusive o...</td>\n",
       "      <td>max mara</td>\n",
       "      <td>True</td>\n",
       "    </tr>\n",
       "  </tbody>\n",
       "</table>\n",
       "</div>"
      ],
      "text/plain": [
       "                                                 url     product_id  \\\n",
       "0  ['https://us.maxmara.com/p-1081065106001-ogger...  1081065106001   \n",
       "1  ['https://us.maxmara.com/p-1336024206001-zigot...  1336024206001   \n",
       "\n",
       "          ref                                       main_title  \\\n",
       "0  1081065106  cropped teddy bear icon coat in alpaca and wool   \n",
       "1  1336024206                      wide-leg wool yarn trousers   \n",
       "\n",
       "                                         description  \\\n",
       "0  cropped jacket in the iconic teddy fabric of a...   \n",
       "1  long trousers made from soft pure wool yarn - ...   \n",
       "\n",
       "                                           full_path  color  current_price  \\\n",
       "0  [['Homepage', 'Coats and Jackets', 'Coats and ...  white         2890.0   \n",
       "1  [['Homepage', 'Clothing', 'Clothing', 'Trouser...  white          612.0   \n",
       "\n",
       "   previous_price                        available_sizes  \\\n",
       "0          2890.0  ['4', '6', '12', '0', '8', '2', '10']   \n",
       "1           875.0                 ['XS', 'S', 'XL', 'M']   \n",
       "\n",
       "                                           all_sizes  \\\n",
       "0  ['4', '6', '12', '0', '16', '8', '10', '2', '14']   \n",
       "1                 ['XS', 'S', 'L', 'M', '2XL', 'XL']   \n",
       "\n",
       "                                              images  outlet_color  \\\n",
       "0  ['https://b2c-media.maxmara.com/sys-master/m0/...         False   \n",
       "1  ['https://b2c-media.maxmara.com/sys-master/m0/...         False   \n",
       "\n",
       "   excluweb_color                                           material  \\\n",
       "0           False  Jersey fabric 62% alpaca, 26% virgin wool, 12%...   \n",
       "1           False  Knitted fabric 100% virgin wool; - exclusive o...   \n",
       "\n",
       "      brand  discounted  \n",
       "0  max mara       False  \n",
       "1  max mara        True  "
      ]
     },
     "execution_count": 3,
     "metadata": {},
     "output_type": "execute_result"
    }
   ],
   "source": [
    "maxmara.head(2)"
   ]
  },
  {
   "cell_type": "code",
   "execution_count": 4,
   "id": "371ef6c1-56b9-4020-ae3e-da5bfe97bc0c",
   "metadata": {},
   "outputs": [],
   "source": [
    "maxmara['synthetic_id'] = maxmara['main_title'] + '_' + maxmara['color'] + '_' + maxmara['material'] + maxmara['brand']\n",
    "netaporter['synthetic_id'] = netaporter['main_title'] + '_' + netaporter['color'] + '_' + netaporter['material'] + netaporter['brand']\n",
    "luisaviaroma['synthetic_id'] = luisaviaroma['main_title'] + '_' + luisaviaroma['color'] + '_' + luisaviaroma['material'] + luisaviaroma['brand']"
   ]
  },
  {
   "cell_type": "code",
   "execution_count": 5,
   "id": "e54e02e5-183f-4965-85b0-f082d6602e4c",
   "metadata": {},
   "outputs": [],
   "source": [
    "def compute_cosine_similarity(series1, series2):\n",
    "\n",
    "    vectorizer = TfidfVectorizer()\n",
    "    tfidf_matrix_1 = vectorizer.fit_transform(series1)\n",
    "    tfidf_matrix_2 = vectorizer.transform(series2)\n",
    "\n",
    "    similarity_matrix = cosine_similarity(tfidf_matrix_1, tfidf_matrix_2)\n",
    "    return similarity_matrix\n",
    "\n",
    "def compute_rapidfuzz_similarity(series1, series2):\n",
    "    series1 = series1.fillna(\"\").astype(str)\n",
    "    series2 = series2.fillna(\"\").astype(str)\n",
    "    similarity_matrix = []\n",
    "\n",
    "    for val1 in series1:\n",
    "        row_scores = []\n",
    "        for val2 in series2:\n",
    "            score = fuzz.ratio(val1, val2) / 100  # Normalize to 0-1\n",
    "            row_scores.append(score)\n",
    "        similarity_matrix.append(row_scores)\n",
    "    \n",
    "    return similarity_matrix"
   ]
  },
  {
   "cell_type": "code",
   "execution_count": 6,
   "id": "0240db74-cf8c-475d-9ddc-70d04e74ae2c",
   "metadata": {},
   "outputs": [],
   "source": [
    "def text_similarity(method, maxmara, netaporter):\n",
    "    if method == 'cosine':\n",
    "        title_similarity = compute_cosine_similarity(maxmara['main_title'], netaporter['main_title'])\n",
    "        description_similarity = compute_cosine_similarity(maxmara['description'], netaporter['description'])\n",
    "        material_similarity = compute_cosine_similarity(maxmara['material'], netaporter['material'])\n",
    "        color_similarity = compute_cosine_similarity(maxmara['color'], netaporter['color'])\n",
    "        synthetic_similarity = compute_cosine_similarity(maxmara['synthetic_id'], netaporter['synthetic_id'])\n",
    "    elif method == 'fuzzy':\n",
    "        title_similarity = compute_rapidfuzz_similarity(maxmara['main_title'], netaporter['main_title'])\n",
    "        description_similarity = compute_rapidfuzz_similarity(maxmara['description'], netaporter['description'])\n",
    "        material_similarity = compute_rapidfuzz_similarity(maxmara['material'], netaporter['material'])\n",
    "        color_similarity = compute_rapidfuzz_similarity(maxmara['color'], netaporter['color'])\n",
    "        synthetic_similarity = compute_rapidfuzz_similarity(maxmara['synthetic_id'], netaporter['synthetic_id'])\n",
    "    return title_similarity, description_similarity, material_similarity, color_similarity, synthetic_similarity"
   ]
  },
  {
   "cell_type": "code",
   "execution_count": 7,
   "id": "bae21f03-439d-451d-8c9b-b4475e5ccea4",
   "metadata": {},
   "outputs": [
    {
     "name": "stderr",
     "output_type": "stream",
     "text": [
      "100%|██████████| 2510/2510 [00:38<00:00, 66.03it/s]\n"
     ]
    }
   ],
   "source": [
    "cosine_title_similarity, cosine_description_similarity, cosine_material_similarity, cosine_color_similarity, cosine_synthetic_similarity = text_similarity('cosine', maxmara, netaporter)\n",
    "fuzzy_title_similarity, fuzzy_description_similarity, fuzzy_material_similarity, fuzzy_color_similarity, fuzzy_synthetic_similarity = text_similarity('fuzzy', maxmara, netaporter)\n",
    "results = []\n",
    "for i, maxmara_row in tqdm(maxmara.iterrows(), total=len(maxmara)):\n",
    "    for j, netaporter_row in netaporter.iterrows():\n",
    "        results.append({\n",
    "            'maxmara_index': i,\n",
    "            'retailer_index': j,\n",
    "            'retailer_name': 'netaporter',\n",
    "            'title_cosine_score': cosine_title_similarity[i, j],\n",
    "            'title_rapidfuzz_score': fuzzy_title_similarity[i][j],\n",
    "            'description_cosine_score': cosine_description_similarity[i, j],\n",
    "            'description_rapidfuzz_score': fuzzy_description_similarity[i][j],\n",
    "            'material_cosine_score': cosine_material_similarity[i, j],\n",
    "            'material_rapidfuzz_score': fuzzy_material_similarity[i][j],\n",
    "            'color_cosine_score': cosine_color_similarity[i, j],\n",
    "            'color_rapidfuzz_score': fuzzy_color_similarity[i][j],\n",
    "            'synthetic_cosine_score': cosine_synthetic_similarity[i, j],\n",
    "            'synthetic_rapidfuzz_score': fuzzy_synthetic_similarity[i][j]\n",
    "        })\n",
    "netaporter_similarity_df = pd.DataFrame(results)"
   ]
  },
  {
   "cell_type": "code",
   "execution_count": 8,
   "id": "b44b1e70-a89f-478b-9103-b1e301c8b561",
   "metadata": {},
   "outputs": [
    {
     "name": "stderr",
     "output_type": "stream",
     "text": [
      "100%|██████████| 2510/2510 [01:18<00:00, 31.89it/s]\n"
     ]
    }
   ],
   "source": [
    "cosine_title_similarity, cosine_description_similarity, cosine_material_similarity, cosine_color_similarity, cosine_synthetic_similarity = text_similarity('cosine', maxmara, luisaviaroma)\n",
    "fuzzy_title_similarity, fuzzy_description_similarity, fuzzy_material_similarity, fuzzy_color_similarity, fuzzy_synthetic_similarity = text_similarity('fuzzy', maxmara, luisaviaroma)\n",
    "results = []\n",
    "for i, maxmara_row in tqdm(maxmara.iterrows(), total=len(maxmara)):\n",
    "    for j, netaporter_row in luisaviaroma.iterrows():\n",
    "        results.append({\n",
    "            'maxmara_index': i,\n",
    "            'retailer_index': j,\n",
    "            'retailer_name': 'luisaviaroma',\n",
    "            'title_cosine_score': cosine_title_similarity[i, j],\n",
    "            'title_rapidfuzz_score': fuzzy_title_similarity[i][j],\n",
    "            'description_cosine_score': cosine_description_similarity[i, j],\n",
    "            'description_rapidfuzz_score': fuzzy_description_similarity[i][j],\n",
    "            'material_cosine_score': cosine_material_similarity[i, j],\n",
    "            'material_rapidfuzz_score': fuzzy_material_similarity[i][j],\n",
    "            'color_cosine_score': cosine_color_similarity[i, j],\n",
    "            'color_rapidfuzz_score': fuzzy_color_similarity[i][j],\n",
    "            'synthetic_cosine_score': cosine_synthetic_similarity[i, j],\n",
    "            'synthetic_rapidfuzz_score': fuzzy_synthetic_similarity[i][j]\n",
    "        })\n",
    "luisaviaroma_similarity_df = pd.DataFrame(results)"
   ]
  },
  {
   "cell_type": "code",
   "execution_count": 9,
   "id": "c7eec381-ed5e-410c-92bb-198f4d276424",
   "metadata": {},
   "outputs": [],
   "source": [
    "text_similarity_score = pd.concat([netaporter_similarity_df, luisaviaroma_similarity_df], ignore_index=True)"
   ]
  },
  {
   "cell_type": "code",
   "execution_count": 10,
   "id": "370960d4-b5cb-4a74-a5f2-0884a8a8b9ee",
   "metadata": {},
   "outputs": [],
   "source": [
    "text_similarity_score['title_similarity'] = text_similarity_score[['title_cosine_score', 'title_rapidfuzz_score']].mean(axis=1)\n",
    "text_similarity_score['color_similarity'] = text_similarity_score[['color_cosine_score', 'color_rapidfuzz_score']].mean(axis=1)\n",
    "text_similarity_score['material_similarity'] = text_similarity_score[['material_cosine_score', 'material_rapidfuzz_score']].mean(axis=1)\n",
    "text_similarity_score['cosine_avg_score'] = text_similarity_score[['title_cosine_score', 'description_cosine_score', 'material_cosine_score', 'color_cosine_score', 'synthetic_cosine_score']].mean(axis=1)\n",
    "text_similarity_score['rapidfuzz_avg_score'] = text_similarity_score[['title_rapidfuzz_score', 'description_rapidfuzz_score', 'material_rapidfuzz_score', 'color_rapidfuzz_score', 'synthetic_rapidfuzz_score']].mean(axis=1)\n",
    "text_similarity_score['overall_similarity'] = text_similarity_score[['cosine_avg_score', 'rapidfuzz_avg_score']].mean(axis=1)"
   ]
  },
  {
   "cell_type": "code",
   "execution_count": 11,
   "id": "60780883-bca8-4dd3-9462-6d2a440b99c8",
   "metadata": {},
   "outputs": [],
   "source": [
    "text_similarity_score.to_csv('text_similarity_score.csv',index=False)"
   ]
  },
  {
   "cell_type": "code",
   "execution_count": null,
   "id": "85b4f86a-a9fd-4720-8b41-c707a5e6b395",
   "metadata": {},
   "outputs": [],
   "source": []
  }
 ],
 "metadata": {
  "kernelspec": {
   "display_name": "Python 3 (ipykernel)",
   "language": "python",
   "name": "python3"
  },
  "language_info": {
   "codemirror_mode": {
    "name": "ipython",
    "version": 3
   },
   "file_extension": ".py",
   "mimetype": "text/x-python",
   "name": "python",
   "nbconvert_exporter": "python",
   "pygments_lexer": "ipython3",
   "version": "3.12.8"
  }
 },
 "nbformat": 4,
 "nbformat_minor": 5
}
