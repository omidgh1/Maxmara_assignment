{
 "cells": [
  {
   "cell_type": "code",
   "execution_count": 4,
   "id": "db74908c-91e4-450e-b740-dff647892efc",
   "metadata": {},
   "outputs": [],
   "source": [
    "import pandas as pd\n",
    "import numpy as np\n",
    "import matplotlib.pyplot as plt\n",
    "import seaborn as sns\n",
    "import openai\n",
    "import ast\n",
    "from tqdm import tqdm"
   ]
  },
  {
   "cell_type": "code",
   "execution_count": 5,
   "id": "2ff69f5a-8772-43d4-9891-da7e1bd23259",
   "metadata": {},
   "outputs": [],
   "source": [
    "maxmara = pd.read_csv('maxmara_cleaned.csv')\n",
    "netaporter = pd.read_csv('netaporter_cleaned.csv')\n",
    "luisaviaroma = pd.read_csv('luisaviaroma_cleaned.csv')"
   ]
  },
  {
   "cell_type": "code",
   "execution_count": 21,
   "id": "74edff33-539d-4cda-8184-bdb24cbb33fd",
   "metadata": {},
   "outputs": [],
   "source": [
    "openai.api_key = \"API_KEY\"\n",
    "\n",
    "def sanitize_response(response):\n",
    "    sanitized_content = response.choices[0].message.content.strip()\n",
    "    sanitized_content = sanitized_content.lstrip('```json').rstrip('```').strip()\n",
    "    return sanitized_content\n",
    "    \n",
    "def classify_product(rows):\n",
    "    system_prompt = \"\"\"\n",
    "    Given the product details with color and material values in various forms, your task is to standardize these into commonly recognized or more famous names. \n",
    "    For example, if a material like \"Cotton-Blend Poplin\" is commonly referred to by another name, return the more widely accepted term. \n",
    "    Similarly, for colors like \"Coral,\" if there’s a more standard name, use that. Ensure consistency and standardization across the color and material fields.\n",
    "    \"\"\"\n",
    "    prompt = \"Given the following product details, return the standardized Category, Color, and Material for each product in JSON format, with the Index number included:\\n\\n\"\n",
    "    for idx, row in rows.iterrows():\n",
    "        prompt += f\"\"\"\n",
    "        Index: {idx}\n",
    "        Title: {row['main_title']}\n",
    "        Description: {row['description']}\n",
    "        Material: {row['material']}\n",
    "        Color: {row['color']}\n",
    "        \"\"\"\n",
    "    prompt += \"\\nProvide the output in this format:\\n[\\n  {\\n    \\\"Index\\\": ..., \\\"Category\\\": ..., \\\"Color\\\": ..., \\\"Material\\\": ...\\n  },\\n  ...\\n]\"\n",
    "    response = openai.chat.completions.create(\n",
    "    model=\"gpt-3.5-turbo\",\n",
    "    messages=[\n",
    "         {\"role\": \"system\", \"content\": system_prompt},\n",
    "            {\"role\": \"user\", \"content\": prompt}\n",
    "    ],\n",
    "    max_tokens=4000,\n",
    "    presence_penalty=0,\n",
    "    temperature=0.1,\n",
    "    top_p=0.9\n",
    "    )\n",
    "    sanitized_response = sanitize_response(response)\n",
    "    return ast.literal_eval(sanitized_response)\n",
    "\n"
   ]
  },
  {
   "cell_type": "code",
   "execution_count": 22,
   "id": "76103c59-9015-4907-b9c1-e3839807c32f",
   "metadata": {},
   "outputs": [
    {
     "name": "stderr",
     "output_type": "stream",
     "text": [
      "100%|████████████████████████████████████████████████████████████████████████████████████| 8/8 [02:32<00:00, 19.08s/it]\n"
     ]
    }
   ],
   "source": [
    "netaporter_list = []\n",
    "for i in tqdm(range(0, len(netaporter), 50)):\n",
    "    chunk = netaporter.iloc[i:i + 50]\n",
    "    result = classify_product(chunk)\n",
    "    netaporter_list.extend(result)"
   ]
  },
  {
   "cell_type": "code",
   "execution_count": 27,
   "id": "1bf53697-af88-479c-91da-7afa6c9e206d",
   "metadata": {},
   "outputs": [],
   "source": [
    "new_data = pd.DataFrame(netaporter_list)\n",
    "new_data.set_index('Index', inplace=True)\n",
    "netaporter = netaporter.join(new_data)"
   ]
  },
  {
   "cell_type": "code",
   "execution_count": 29,
   "id": "97631777-a2f9-4d06-8efd-06a787bd789a",
   "metadata": {},
   "outputs": [
    {
     "name": "stderr",
     "output_type": "stream",
     "text": [
      "100%|██████████████████████████████████████████████████████████████████████████████████| 17/17 [05:27<00:00, 19.29s/it]\n"
     ]
    }
   ],
   "source": [
    "luisaviaroma_list = []\n",
    "for i in tqdm(range(0, len(luisaviaroma), 50)):\n",
    "    chunk = luisaviaroma.iloc[i:i + 50]\n",
    "    result = classify_product(chunk)\n",
    "    luisaviaroma_list.extend(result)"
   ]
  },
  {
   "cell_type": "code",
   "execution_count": 30,
   "id": "17199fcf-0618-4403-9224-c91d00088d02",
   "metadata": {},
   "outputs": [],
   "source": [
    "new_data = pd.DataFrame(luisaviaroma_list)\n",
    "new_data.set_index('Index', inplace=True)\n",
    "luisaviaroma = luisaviaroma.join(new_data)"
   ]
  },
  {
   "cell_type": "code",
   "execution_count": 33,
   "id": "c79b1b48-5d43-4f89-909c-f23bcbe9dd3a",
   "metadata": {},
   "outputs": [],
   "source": [
    "netaporter.to_csv('netaporter_AI.csv',index=False)\n",
    "luisaviaroma.to_csv('luisaviaroma_AI.csv',index=False)"
   ]
  }
 ],
 "metadata": {
  "kernelspec": {
   "display_name": "Python 3 (ipykernel)",
   "language": "python",
   "name": "python3"
  },
  "language_info": {
   "codemirror_mode": {
    "name": "ipython",
    "version": 3
   },
   "file_extension": ".py",
   "mimetype": "text/x-python",
   "name": "python",
   "nbconvert_exporter": "python",
   "pygments_lexer": "ipython3",
   "version": "3.12.8"
  }
 },
 "nbformat": 4,
 "nbformat_minor": 5
}
